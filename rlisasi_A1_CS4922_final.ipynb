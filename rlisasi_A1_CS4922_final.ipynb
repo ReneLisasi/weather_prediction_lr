{
  "cells": [
    {
      "cell_type": "markdown",
      "metadata": {
        "id": "R5c430PD3L-4"
      },
      "source": [
        "Be sure to load weather_data.csv before running"
      ]
    },
    {
      "cell_type": "code",
      "execution_count": 1,
      "metadata": {
        "id": "Nl0cLa1T3VjB"
      },
      "outputs": [],
      "source": [
        "#Author: Rene Lisasi\n",
        "#Deep Learning\n",
        "#Assignment 1: Linear Regression"
      ]
    },
    {
      "cell_type": "code",
      "execution_count": 2,
      "metadata": {
        "id": "GKnTYLO2Rt2m"
      },
      "outputs": [],
      "source": [
        "import numpy as np\n",
        "import pandas as pd\n",
        "from sklearn.model_selection import train_test_split\n",
        "import matplotlib.pyplot as plt"
      ]
    },
    {
      "cell_type": "code",
      "execution_count": 3,
      "metadata": {
        "id": "FQ-S6wZPRt2o"
      },
      "outputs": [],
      "source": [
        "datafile = \"weather_data.csv\"\n"
      ]
    },
    {
      "cell_type": "code",
      "execution_count": 4,
      "metadata": {
        "id": "ZqsV8MI-Rt2o"
      },
      "outputs": [],
      "source": [
        "def get_data(filename):\n",
        "    df = pd.read_csv(filename)\n",
        "    X_ = df[[\"Humidity\",\"Visibility (km)\"]]\n",
        "    Y_ = df[[\"Temperature (C)\"]]\n",
        "    #remove 1 row from each because 7321 is unfactorable and makes it hard to batch\n",
        "    X_ = X_.drop(index=X_.index[-1])\n",
        "    Y_ = Y_.drop(index=Y_.index[-1])\n",
        "    # Spliting data into train and test sets\n",
        "    X_train, X_test, y_train, y_test = train_test_split(X_, Y_, test_size=0.25, random_state=42)\n",
        "    return X_train, X_test, y_train, y_test"
      ]
    },
    {
      "cell_type": "code",
      "execution_count": 5,
      "metadata": {
        "colab": {
          "base_uri": "https://localhost:8080/"
        },
        "id": "iC-6K5RZRt2p",
        "outputId": "9a1013f0-000b-4669-b0b8-45a621158c2c"
      },
      "outputs": [
        {
          "output_type": "stream",
          "name": "stdout",
          "text": [
            "(72321, 2) (24107, 2) (72321, 1) (24107, 1)\n"
          ]
        }
      ],
      "source": [
        "X_train, X_test, y_train, y_test = get_data(datafile)\n",
        "print(X_train.shape, X_test.shape, y_train.shape, y_test.shape)\n"
      ]
    },
    {
      "cell_type": "code",
      "execution_count": 6,
      "metadata": {
        "id": "TJI3mJBiRt2p"
      },
      "outputs": [],
      "source": [
        "from math import ceil\n",
        "def data_iter(batch_size, X, y):\n",
        "    x_batch=np.array_split(X, ceil(len(X) / batch_size))\n",
        "    y_batch=np.array_split(y, ceil(len(y) / batch_size))\n",
        "    return x_batch,y_batch\n"
      ]
    },
    {
      "cell_type": "markdown",
      "metadata": {
        "id": "j7ySxr3Ez8q3"
      },
      "source": [
        "Below choose which"
      ]
    },
    {
      "cell_type": "code",
      "execution_count": 7,
      "metadata": {
        "colab": {
          "base_uri": "https://localhost:8080/"
        },
        "id": "iZqy2nmyRt2p",
        "outputId": "da787972-e311-4db8-f99b-5bb0c99eebcd"
      },
      "outputs": [
        {
          "output_type": "stream",
          "name": "stdout",
          "text": [
            "       Humidity  Visibility (km)\n",
            "21572      0.78            0.711\n",
            "33021      0.87            0.597\n",
            "87582      0.53            1.000\n",
            "13425      0.68            0.696\n",
            "44193      0.47            0.696\n",
            "...         ...              ...\n",
            "3908       0.93            0.655\n",
            "82691      0.37            0.966\n",
            "72705      0.92            0.295\n",
            "57763      0.88            0.711\n",
            "55088      0.85            0.380\n",
            "\n",
            "[64 rows x 2 columns] \n",
            "        Temperature (C)\n",
            "21572         0.654213\n",
            "33021         0.505343\n",
            "87582         0.652556\n",
            "13425         0.696711\n",
            "44193         0.637727\n",
            "...                ...\n",
            "3908          0.709800\n",
            "82691         0.872836\n",
            "72705         0.478834\n",
            "57763         0.378013\n",
            "55088         0.374203\n",
            "\n",
            "[64 rows x 1 columns]\n"
          ]
        }
      ],
      "source": [
        "batch_size = 64 #small\n",
        "features=X_train\n",
        "labels=y_train\n",
        "for X,y in zip(*data_iter(batch_size, features, labels)):\n",
        "    print(X, '\\n', y)\n",
        "    break\n"
      ]
    },
    {
      "cell_type": "code",
      "execution_count": 8,
      "metadata": {
        "colab": {
          "base_uri": "https://localhost:8080/"
        },
        "id": "UoL6lDDyzqzY",
        "outputId": "1cd95afb-e222-4aa5-941f-7ed4de7996db"
      },
      "outputs": [
        {
          "output_type": "stream",
          "name": "stdout",
          "text": [
            "       Humidity  Visibility (km)\n",
            "21572      0.78            0.711\n",
            "33021      0.87            0.597\n",
            "87582      0.53            1.000\n",
            "13425      0.68            0.696\n",
            "44193      0.47            0.696\n",
            "...         ...              ...\n",
            "22808      0.68            0.620\n",
            "63051      0.96            0.246\n",
            "59804      0.89            0.926\n",
            "34949      0.74            0.941\n",
            "39864      0.90            0.926\n",
            "\n",
            "[731 rows x 2 columns] \n",
            "        Temperature (C)\n",
            "21572         0.654213\n",
            "33021         0.505343\n",
            "87582         0.652556\n",
            "13425         0.696711\n",
            "44193         0.637727\n",
            "...                ...\n",
            "22808         0.489355\n",
            "63051         0.320769\n",
            "59804         0.490680\n",
            "34949         0.726535\n",
            "39864         0.651230\n",
            "\n",
            "[731 rows x 1 columns]\n"
          ]
        }
      ],
      "source": [
        "batch_size = 732 #medium\n",
        "features=X_train\n",
        "labels=y_train\n",
        "for X,y in zip(*data_iter(batch_size, features, labels)):\n",
        "    print(X, '\\n', y)\n",
        "    break"
      ]
    },
    {
      "cell_type": "code",
      "execution_count": 9,
      "metadata": {
        "colab": {
          "base_uri": "https://localhost:8080/"
        },
        "id": "2ElXxBkDzzYM",
        "outputId": "410ffed2-9f69-4314-96fe-ccfa1cb39f8a"
      },
      "outputs": [
        {
          "output_type": "stream",
          "name": "stdout",
          "text": [
            "       Humidity  Visibility (km)\n",
            "21572      0.78            0.711\n",
            "33021      0.87            0.597\n",
            "87582      0.53            1.000\n",
            "13425      0.68            0.696\n",
            "44193      0.47            0.696\n",
            "...         ...              ...\n",
            "61047      0.34            0.620\n",
            "91621      0.43            1.000\n",
            "20368      0.81            0.295\n",
            "10137      0.65            0.700\n",
            "62450      0.59            0.943\n",
            "\n",
            "[2411 rows x 2 columns] \n",
            "        Temperature (C)\n",
            "21572         0.654213\n",
            "33021         0.505343\n",
            "87582         0.652556\n",
            "13425         0.696711\n",
            "44193         0.637727\n",
            "...                ...\n",
            "61047         0.844586\n",
            "91621         0.842432\n",
            "20368         0.537238\n",
            "10137         0.678237\n",
            "62450         0.682628\n",
            "\n",
            "[2411 rows x 1 columns]\n"
          ]
        }
      ],
      "source": [
        "batch_size = 2440 #large\n",
        "features=X_train\n",
        "labels=y_train\n",
        "for X,y in zip(*data_iter(batch_size, features, labels)):\n",
        "    print(X, '\\n', y)\n",
        "    break"
      ]
    },
    {
      "cell_type": "markdown",
      "metadata": {
        "id": "rzxrURGvRt2p"
      },
      "source": [
        " ## create and initialize model parameter"
      ]
    },
    {
      "cell_type": "code",
      "execution_count": 10,
      "metadata": {
        "id": "rvJmqhonRt2q"
      },
      "outputs": [],
      "source": [
        "#generate random weights\n",
        "def create_model_parameter(mu, sigma, row, column):\n",
        "    w = np.random.normal(mu, sigma, size=(row, column))\n",
        "    b = 0\n",
        "    return w,b\n"
      ]
    },
    {
      "cell_type": "code",
      "execution_count": 11,
      "metadata": {
        "colab": {
          "base_uri": "https://localhost:8080/"
        },
        "id": "XXykcYzjFZXl",
        "outputId": "79fcfb69-dfc8-4478-b822-486801f4e643"
      },
      "outputs": [
        {
          "output_type": "stream",
          "name": "stdout",
          "text": [
            "Randomly generated params: (array([[0.9329849 , 0.65785409]]), 0)\n"
          ]
        },
        {
          "output_type": "stream",
          "name": "stderr",
          "text": [
            "/usr/local/lib/python3.10/dist-packages/numpy/core/fromnumeric.py:3430: FutureWarning: In a future version, DataFrame.mean(axis=None) will return a scalar mean over the entire DataFrame. To retain the old behavior, use 'frame.mean(axis=0)' or just 'frame.mean()'\n",
            "  return mean(axis=axis, dtype=dtype, out=out, **kwargs)\n"
          ]
        }
      ],
      "source": [
        "print(f'Randomly generated params: {create_model_parameter(np.mean(X_train),np.std(X_train),1,2)}')"
      ]
    },
    {
      "cell_type": "code",
      "execution_count": 12,
      "metadata": {
        "id": "NfXken_TRt2q"
      },
      "outputs": [],
      "source": [
        "def model(X, w, b):\n",
        "    \"\"\"The linear regression model.\"\"\"\n",
        "    #predict my taking the dot product of transpose\n",
        "    z=np.dot(X,w.T)+b\n",
        "    return z\n"
      ]
    },
    {
      "cell_type": "code",
      "execution_count": 21,
      "metadata": {
        "colab": {
          "base_uri": "https://localhost:8080/"
        },
        "id": "KT0HuPRyFZXl",
        "outputId": "3889812c-ac96-4652-9e89-8f6c3959d9ba"
      },
      "outputs": [
        {
          "output_type": "stream",
          "name": "stdout",
          "text": [
            "Prediction: [[0.94624953]\n",
            " [0.94205788]\n",
            " [0.94189264]\n",
            " ...\n",
            " [0.91555204]\n",
            " [0.92106073]\n",
            " [1.12341192]]\n"
          ]
        }
      ],
      "source": [
        "pred=model(X_train,np.array([[0.68597332, 0.57832678]]),0)\n",
        "print(f'Prediction: {pred}')"
      ]
    },
    {
      "cell_type": "code",
      "execution_count": 14,
      "metadata": {
        "id": "jP_QAHueRt2r"
      },
      "outputs": [],
      "source": [
        "def squared_loss(y_hat, y):\n",
        "    \"\"\"Squared loss.\"\"\"\n",
        "    #write your code here for loss function\n",
        "    m=y.size\n",
        "    difference=np.subtract(y_hat,y)\n",
        "    square=np.square(difference)\n",
        "    sum=np.sum(square)\n",
        "    loss=(1/2*m)*(sum)\n",
        "    return loss\n"
      ]
    },
    {
      "cell_type": "code",
      "execution_count": 22,
      "metadata": {
        "colab": {
          "base_uri": "https://localhost:8080/"
        },
        "id": "939y8e3LFZXl",
        "outputId": "95c6f2ef-2288-4462-e973-7feda2cc1909"
      },
      "outputs": [
        {
          "output_type": "stream",
          "name": "stdout",
          "text": [
            "Squared Loss: Temperature (C)    3.898313e+08\n",
            "dtype: float64\n"
          ]
        }
      ],
      "source": [
        "sl=squared_loss(pred,y_train)\n",
        "print(f'Squared Loss: {sl}')"
      ]
    },
    {
      "cell_type": "code",
      "execution_count": 17,
      "metadata": {
        "id": "_FOCArzIRt2r"
      },
      "outputs": [],
      "source": [
        "def gradient(x,yhat,y):\n",
        "    #compute gradient of loss function with respect to params\n",
        "    m=yhat.size\n",
        "    xt=x.T\n",
        "    difference=np.subtract(yhat,y)\n",
        "    grads=(1/m)*np.dot(xt,difference)\n",
        "    return grads\n"
      ]
    },
    {
      "cell_type": "code",
      "execution_count": 23,
      "metadata": {
        "colab": {
          "base_uri": "https://localhost:8080/"
        },
        "id": "Ey_k2U9dFZXm",
        "outputId": "2430a189-a6ad-46e9-957d-98649be3934a"
      },
      "outputs": [
        {
          "output_type": "stream",
          "name": "stdout",
          "text": [
            "Gradients matrix: [[0.25506953]\n",
            " [0.20405024]]\n"
          ]
        }
      ],
      "source": [
        "gr=gradient(X_train,pred,y_train)\n",
        "print(f'Gradients matrix: {gr}')"
      ]
    },
    {
      "cell_type": "code",
      "execution_count": 24,
      "metadata": {
        "id": "7fhZa29ORt2r"
      },
      "outputs": [],
      "source": [
        "def sgd(w,b, grads, lr, batch_size):\n",
        "    \"\"\"Minibatch stochastic gradient descent.\"\"\"\n",
        "    #code for updating your parameter using gradient descent algorithm\n",
        "    w = np.subtract(w, (lr * np.sum(grads))/batch_size)\n",
        "    b= b - (lr * np.sum(grads))/batch_size\n",
        "    return w,b"
      ]
    },
    {
      "cell_type": "code",
      "execution_count": 26,
      "metadata": {
        "colab": {
          "base_uri": "https://localhost:8080/"
        },
        "id": "xZSWF-mQFZXm",
        "outputId": "9d216fc0-1fa1-41c0-eae2-9707e9c4ced4"
      },
      "outputs": [
        {
          "output_type": "stream",
          "name": "stdout",
          "text": [
            "Updated Params: (array([[0.56178271, 0.94751279]]), -0.0008682432234458213)\n"
          ]
        }
      ],
      "source": [
        "print(f'Updated Params: {sgd(np.array([[0.5621414 , 0.94787148]]),-0.0005095559008283894,gr,0.05,64)}')"
      ]
    },
    {
      "cell_type": "code",
      "execution_count": 27,
      "metadata": {
        "id": "xBSWkVjaRt2r"
      },
      "outputs": [],
      "source": [
        "def train(lr,num_epochs,X,y,w,b,batch_size):\n",
        "    print(f'staring w: {w} b:{b}')\n",
        "    losses=[]\n",
        "    mse_list=[]\n",
        "    epochs=[]\n",
        "    for epoch in range(num_epochs):\n",
        "        for X,y in zip(*data_iter(batch_size, features, labels)):\n",
        "            #1. use weight to get yhat\n",
        "            yhat=model(X,w,b)\n",
        "            #2. calculate the loss and append it\n",
        "            loss=squared_loss(yhat,y)\n",
        "            # print(yhat,loss)\n",
        "            losses.append(loss)\n",
        "            #3. calculate the new gradient\n",
        "            grads=gradient(X,yhat,y)\n",
        "            #4. apply the new gradient in sgd\n",
        "            w,b=sgd(w,b,grads,lr,batch_size)\n",
        "\n",
        "        mse=np.mean(losses)\n",
        "        mse_list.append(np.mean(losses))\n",
        "        epochs.append(epoch)\n",
        "        print(f'epoch {epoch+1}, loss: {mse}')\n",
        "    print(f'ending w: {w} b:{b}')\n",
        "    return w,b,mse_list,epochs\n"
      ]
    },
    {
      "cell_type": "code",
      "execution_count": 28,
      "metadata": {
        "id": "I5GT6QO6Rt2r"
      },
      "outputs": [],
      "source": [
        "def test(X,y,w,b,batch_size):\n",
        "    # predict temperature for the given humidity and visibility\n",
        "    print(f'staring w: {w} b:{b}')\n",
        "    losses=[]\n",
        "    mse_list=[]\n",
        "    for X,y in zip(*data_iter(batch_size, features, labels)):\n",
        "            #1. use weight to get yhat\n",
        "            yhat=model(X,w,b)\n",
        "            #2. calculate the loss and append it\n",
        "            loss=squared_loss(yhat,y)\n",
        "            # print(yhat,loss)\n",
        "            losses.append(loss)\n",
        "    mse=np.mean(losses)\n",
        "    mse_list.append(mse)\n",
        "    print(f'Test mse: {mse}')\n",
        "    return mse,losses\n"
      ]
    },
    {
      "cell_type": "code",
      "execution_count": 29,
      "metadata": {
        "id": "diOAFrGLSdzM"
      },
      "outputs": [],
      "source": [
        "def draw_loss(epochs,loss1,loss2,loss3):\n",
        "    plt.plot(epochs,loss1,marker='o')\n",
        "    plt.plot(epochs,loss2,marker='o')\n",
        "    plt.plot(epochs,loss3,marker='o')\n",
        "    plt.show()"
      ]
    },
    {
      "cell_type": "code",
      "execution_count": 30,
      "metadata": {
        "colab": {
          "base_uri": "https://localhost:8080/"
        },
        "id": "SweJPPKeSUfJ",
        "outputId": "76a4f65f-6a4c-4d16-c036-fbf1e1e655e9"
      },
      "outputs": [
        {
          "output_type": "stream",
          "name": "stderr",
          "text": [
            "/usr/local/lib/python3.10/dist-packages/numpy/core/fromnumeric.py:3430: FutureWarning: In a future version, DataFrame.mean(axis=None) will return a scalar mean over the entire DataFrame. To retain the old behavior, use 'frame.mean(axis=0)' or just 'frame.mean()'\n",
            "  return mean(axis=axis, dtype=dtype, out=out, **kwargs)\n"
          ]
        }
      ],
      "source": [
        "X_train\n",
        "y_train\n",
        "rows=1\n",
        "cols=X_train.shape[1]\n",
        "#initialize weights and intercept\n",
        "w,b=create_model_parameter(np.mean(X_train),np.std(X_train),rows,cols)\n",
        "w1=w\n",
        "w2=w\n",
        "b1=b\n",
        "b2=b"
      ]
    },
    {
      "cell_type": "code",
      "execution_count": 31,
      "metadata": {
        "id": "3BX_aR9NRt2s"
      },
      "outputs": [],
      "source": [
        "#train\n",
        "lr=0.05\n",
        "num_epochs=5"
      ]
    },
    {
      "cell_type": "code",
      "execution_count": 32,
      "metadata": {
        "colab": {
          "base_uri": "https://localhost:8080/"
        },
        "id": "qnHmdxVbSo1d",
        "outputId": "9411f013-963f-425b-a432-7870a1b9463f"
      },
      "outputs": [
        {
          "output_type": "stream",
          "name": "stdout",
          "text": [
            "staring w: [[0.88824909 0.73963291]] b:0\n",
            "epoch 1, loss: 222.3156189912875\n",
            "epoch 2, loss: 167.53944034190323\n",
            "epoch 3, loss: 149.32348093304188\n",
            "epoch 4, loss: 140.22105110719372\n",
            "epoch 5, loss: 134.75983146474397\n",
            "ending w: [[0.64364115 0.49502497]] b:-0.24460793438356956\n"
          ]
        }
      ],
      "source": [
        "#small batch\n",
        "batch_size=64\n",
        "w,b,mse_list1,epochs=train(lr,num_epochs,X_train,y_train,w,b,batch_size)"
      ]
    },
    {
      "cell_type": "code",
      "execution_count": 33,
      "metadata": {
        "colab": {
          "base_uri": "https://localhost:8080/"
        },
        "id": "j0SZvkgXvyPm",
        "outputId": "d0f21194-5a53-4e2f-f2d5-3bd460614aa3"
      },
      "outputs": [
        {
          "output_type": "stream",
          "name": "stdout",
          "text": [
            "staring w: [[0.88824909 0.73963291]] b:0\n",
            "epoch 1, loss: 100460.9367258703\n",
            "epoch 2, loss: 98523.35829105639\n",
            "epoch 3, loss: 96643.55153980746\n",
            "epoch 4, loss: 94819.58879431442\n",
            "epoch 5, loss: 93049.61080557316\n",
            "ending w: [[0.86206797 0.71345179]] b:-0.026181115228940965\n"
          ]
        }
      ],
      "source": [
        "#medium batch\n",
        "batch_size=732\n",
        "w1,b1,mse_list2,epochs=train(lr,num_epochs,X_train,y_train,w1,b1,batch_size)"
      ]
    },
    {
      "cell_type": "code",
      "execution_count": 34,
      "metadata": {
        "colab": {
          "base_uri": "https://localhost:8080/"
        },
        "id": "skGNwkKBv4n6",
        "outputId": "b5752a60-13d8-4d42-9dfe-c4f039d8fc00"
      },
      "outputs": [
        {
          "output_type": "stream",
          "name": "stdout",
          "text": [
            "staring w: [[0.88824909 0.73963291]] b:0\n",
            "epoch 1, loss: 1113594.5175690681\n",
            "epoch 2, loss: 1111595.713424852\n",
            "epoch 3, loss: 1109602.4383300443\n",
            "epoch 4, loss: 1107614.6751689457\n",
            "epoch 5, loss: 1105632.4068822272\n",
            "ending w: [[0.88574488 0.7371287 ]] b:-0.002504208455644894\n"
          ]
        }
      ],
      "source": [
        "#large batch\n",
        "batch_size=2440\n",
        "w2,b2,mse_list3,epochs=train(lr,num_epochs,X_train,y_train,w2,b2,batch_size)"
      ]
    },
    {
      "cell_type": "code",
      "execution_count": 35,
      "metadata": {
        "colab": {
          "base_uri": "https://localhost:8080/",
          "height": 445
        },
        "id": "wOzu8N1ARt2s",
        "outputId": "3f5c2117-e154-49fd-834e-bb0293033d04"
      },
      "outputs": [
        {
          "output_type": "display_data",
          "data": {
            "text/plain": [
              "<Figure size 640x480 with 1 Axes>"
            ],
            "image/png": "[encoded data removed]"
          },
          "metadata": {}
        }
      ],
      "source": [
        "#show the difference in loss between batch sizes\n",
        "draw_loss(epochs,mse_list1,mse_list2,mse_list3)"
      ]
    },
    {
      "cell_type": "markdown",
      "metadata": {
        "id": "4Mj6Dd3j0V7A"
      },
      "source": [
        "When I refer to batch size here I am refering to the number of samples in the batch (batch_size = 7000 is a batch full of 7000 samples). The more samples in a batch, the greater the loss. Bigger batches work super fast while smaller ones take a while. This is because less matrix operations occur when the batch is big however, accuracy is lost because the data is generalized.\n",
        "\n",
        "Bigger batch size (bigger amount of samples per batch) is fast but not accurate and doesn't fully utilize computation resources. The opposite is slower but more accurate meaning less loss but wastes resources for similar xi. When doing simple LR by hand I found myself doing multiple operations on the same x."
      ]
    },
    {
      "cell_type": "code",
      "execution_count": 36,
      "metadata": {
        "colab": {
          "base_uri": "https://localhost:8080/",
          "height": 430
        },
        "id": "4i05AufLz_u1",
        "outputId": "8c1d2f3b-ba25-4e33-b881-1f3f3dafabd1"
      },
      "outputs": [
        {
          "output_type": "display_data",
          "data": {
            "text/plain": [
              "<Figure size 640x480 with 1 Axes>"
            ],
            "image/png": "[encoded data removed]"
          },
          "metadata": {}
        }
      ],
      "source": [
        "#focus on the small batch\n",
        "plt.plot(epochs,mse_list1,marker='o')\n",
        "plt.show()"
      ]
    },
    {
      "cell_type": "code",
      "execution_count": 37,
      "metadata": {
        "colab": {
          "base_uri": "https://localhost:8080/"
        },
        "id": "DhXH-ZJ4Rt2s",
        "outputId": "b2b9f4c1-52e7-4662-e2cb-3622ccfd2a78"
      },
      "outputs": [
        {
          "output_type": "stream",
          "name": "stdout",
          "text": [
            "staring w: [[0.64364115 0.49502497]] b:-0.24460793438356956\n",
            "Test mse: 112.90005788527783\n"
          ]
        }
      ],
      "source": [
        "batch_size=64\n",
        "mse=test(X_test,y_test,w,b,batch_size)"
      ]
    },
    {
      "cell_type": "code",
      "execution_count": 38,
      "metadata": {
        "colab": {
          "base_uri": "https://localhost:8080/"
        },
        "id": "20rkZGiCRt2s",
        "outputId": "c865910d-f918-43e8-814e-1e09dfaaba34"
      },
      "outputs": [
        {
          "output_type": "stream",
          "name": "stdout",
          "text": [
            "[3.42161441]\n"
          ]
        }
      ],
      "source": [
        "#test with real data vector\n",
        "print(model([0.62,6.6],w,b))"
      ]
    }
  ],
  "metadata": {
    "colab": {
      "provenance": []
    },
    "kernelspec": {
      "display_name": "Python 3",
      "language": "python",
      "name": "python3"
    },
    "language_info": {
      "codemirror_mode": {
        "name": "ipython",
        "version": 3
      },
      "file_extension": ".py",
      "mimetype": "text/x-python",
      "name": "python",
      "nbconvert_exporter": "python",
      "pygments_lexer": "ipython3",
      "version": "3.11.7"
    }
  },
  "nbformat": 4,
  "nbformat_minor": 0
}